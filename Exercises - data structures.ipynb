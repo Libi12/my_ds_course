{
 "cells": [
  {
   "cell_type": "markdown",
   "metadata": {},
   "source": [
    "Exercise 1"
   ]
  },
  {
   "cell_type": "code",
   "execution_count": 19,
   "metadata": {},
   "outputs": [
    {
     "name": "stdout",
     "output_type": "stream",
     "text": [
      "['Taniv', 'Matan', 'Lior', 'Omer']\n",
      "['Yamit', 'Neta', 'Yael', 'Amit']\n",
      "['Yamit', 'Neta', 'Yael']\n",
      "['Matan', 'Lior', 'Omer']\n",
      "['Matan', 'Lior']\n",
      "['Matan', 'Lior']\n",
      "['Yamit', 'Neta', 'Yael', 'Matan', 'Lior']\n"
     ]
    }
   ],
   "source": [
    "list_boys_names= ['Taniv', 'Matan', 'Lior']\n",
    "list_girls_names = ['Neta', 'Yael', 'Amit']\n",
    "\n",
    "temp= list_boys_names.append('Omer')\n",
    "print (list_boys_names)\n",
    "temp= list_girls_names.insert(0, 'Yamit')\n",
    "print (list_girls_names)\n",
    "\n",
    "bride = list_girls_names.pop(-1)\n",
    "print(list_girls_names)\n",
    "groom = list_boys_names.pop(0)\n",
    "print (list_boys_names)\n",
    "\n",
    "temp= list_boys_names.remove('Omer')\n",
    "print(list_boys_names)\n",
    "\n",
    "#temp= list_boys_names.pop(-1)\n",
    "#print (list_boys_names)  # additional way to remove the last name from the boys without knowing the actual name of the last boy\n",
    "\n",
    "names= list(list_girls_names)+list(list_boys_names)\n",
    "print (names)\n",
    "# extend() modify in-place the list object that called them and do not return the modified list. What they do return is None"
   ]
  },
  {
   "cell_type": "markdown",
   "metadata": {},
   "source": [
    "Exercise 2"
   ]
  },
  {
   "cell_type": "code",
   "execution_count": 74,
   "metadata": {},
   "outputs": [
    {
     "name": "stdout",
     "output_type": "stream",
     "text": [
      "['Lior', 42, True]\n",
      "[['Lior', 42, True], ['Omer', 20, False], ['Aviv', 30, False]]\n",
      "[['Lior', 42, True], ['Omer', 20, False], ['Aviv', 30, False], ['Matan', 59, True]]\n",
      "[['Lior', 42, True], ['Omer', 20, False], ['Aviv', 35, False], ['Matan', 59, True]]\n",
      "[['Omer', 20, False], ['Aviv', 35, False], ['Matan', 59, True]]\n"
     ]
    }
   ],
   "source": [
    "lior_profile= ['Lior', 37, True]\n",
    "omer_profile= ['Omer', 20, False]\n",
    "aviv_profile= [\"Aviv\", 30, False]\n",
    "\n",
    "lior_profile[1]=42\n",
    "print(lior_profile)\n",
    "\n",
    "_guys_= [lior_profile, omer_profile, aviv_profile]\n",
    "print (_guys_)\n",
    "\n",
    "list_guys_=[lior_profile]\n",
    "#print (list_guys_)\n",
    "\n",
    "matan_profile= ['Matan', 59, True]\n",
    "_guys_.append(matan_profile)\n",
    "print (_guys_)\n",
    "\n",
    "_guys_[2][1]=35\n",
    "print (_guys_)\n",
    "\n",
    "#_guys_.pop(0)\n",
    "#print (_guys_)\n",
    "\n",
    "_guys_.remove (lior_profile)\n",
    "print (_guys_)\n",
    "\n"
   ]
  },
  {
   "cell_type": "markdown",
   "metadata": {},
   "source": [
    "Exercise 3"
   ]
  },
  {
   "cell_type": "code",
   "execution_count": 92,
   "metadata": {},
   "outputs": [
    {
     "name": "stdout",
     "output_type": "stream",
     "text": [
      "late-night\n",
      "homework\n",
      "is\n",
      "bad\n",
      "1\n",
      "1\n"
     ]
    }
   ],
   "source": [
    "sentence= 'late-night homework is bad'\n",
    "print ('\\n'.join(sentence.split()))\n",
    "count_no_1= sentence.count ('m')\n",
    "print (count_no_1)\n",
    "\n",
    "count_no_2= len(sentence.split('m'))-1\n",
    "print (count_no_2)"
   ]
  }
 ],
 "metadata": {
  "kernelspec": {
   "display_name": "Python 3",
   "language": "python",
   "name": "python3"
  },
  "language_info": {
   "codemirror_mode": {
    "name": "ipython",
    "version": 3
   },
   "file_extension": ".py",
   "mimetype": "text/x-python",
   "name": "python",
   "nbconvert_exporter": "python",
   "pygments_lexer": "ipython3",
   "version": "3.6.3"
  }
 },
 "nbformat": 4,
 "nbformat_minor": 2
}
